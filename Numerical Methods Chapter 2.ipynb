{
 "cells": [
  {
   "cell_type": "markdown",
   "metadata": {},
   "source": [
    "### Understanding *Newton direction*\n",
    "\n",
    "Page 21.\n",
    "<br>\n",
    "Note that the negative gradient of f(x) points in the steepest descent direction, $-\\nabla f$. Anything descent direction that forms an angle less then $\\pi/2$ will still descend, given the step size, $\\episilon$, is small. (Remember that the gradient is perpindicular to the level curves of a function, see book image for more intuition. Proof is simple as well). \n",
    "\n",
    "#### Newton direction\n",
    "We are using a second-order Taylor series approximation at our current iterate $x_k$ and solving for the minimum of our quadratic approximation. \n",
    "$f(x_k+p) \\approx f_k+p^T \\nabla f_k + 1/2 p^T {\\nabla}^2f_kp = m_k(p).$\n",
    "\n",
    "What happens if our quadratic approximation is opening upward (no minimum). One requirement is that ${\\nabla}^2f_k$ is positive definite, i.e., p^T {\\nabla}^2f_kp>0. \n",
    "\n"
   ]
  },
  {
   "cell_type": "code",
   "execution_count": null,
   "metadata": {},
   "outputs": [],
   "source": []
  },
  {
   "cell_type": "code",
   "execution_count": null,
   "metadata": {},
   "outputs": [],
   "source": []
  }
 ],
 "metadata": {
  "kernelspec": {
   "display_name": "Python 3",
   "language": "python",
   "name": "python3"
  },
  "language_info": {
   "codemirror_mode": {
    "name": "ipython",
    "version": 3
   },
   "file_extension": ".py",
   "mimetype": "text/x-python",
   "name": "python",
   "nbconvert_exporter": "python",
   "pygments_lexer": "ipython3",
   "version": "3.6.4"
  }
 },
 "nbformat": 4,
 "nbformat_minor": 2
}
